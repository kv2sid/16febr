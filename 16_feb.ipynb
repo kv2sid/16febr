{
 "cells": [
  {
   "cell_type": "markdown",
   "id": "edf3f85f-25ad-4527-bb7d-a6b03173d289",
   "metadata": {},
   "source": [
    "Q1. What is a database? Differentiate between SQL and NoSQL databases.\n",
    "\n",
    "Answer - A database is a structured collection of data that is organized in a way that allows easy access, retrieval, and management of information. It is a central repository that stores data and helps manage and organize it efficiently.\n",
    "\n",
    "SQL databases use a relational data model, where data is stored in tables with predefined columns and relationships between them. SQL is a standard language used to query and manage relational databases. It is used for inserting, updating, deleting, and retrieving data in a structured format. SQL databases are known for their strong consistency and ACID properties, making them suitable for applications that require strict data integrity and consistency, such as financial systems or e-commerce applications.\n",
    "\n",
    "On the other hand, NoSQL databases use a non-relational data model and do not rely on predefined schemas or relationships. They store data in a more flexible and dynamic format, such as documents, key-value pairs, or graphs. NoSQL databases are designed for high scalability, availability, and performance, making them suitable for applications that require handling large volumes of unstructured or semi-structured data, such as social media, gaming, or IoT applications. NoSQL databases typically use their own query languages, such as MongoDB's BSON or Cassandra's CQL, which are designed for specific data models and use cases."
   ]
  },
  {
   "cell_type": "markdown",
   "id": "c02d5cbb-9f37-43cc-b02a-17d5965f1b58",
   "metadata": {},
   "source": [
    "Q2. What is DDL? Explain why CREATE, DROP, ALTER, and TRUNCATE are used with an example.\n",
    "\n",
    "Answer - DDL statements are used to define and manage the structure of a database, including creating, modifying, and deleting database objects. The CREATE statement is used to create new objects, the DROP statement is used to remove objects, the ALTER statement is used to modify objects, and the TRUNCATE statement is used to remove all data from a table while keeping its structure intact.\n",
    "\n",
    "Create = The CREATE statement is used to create a new database object, such as a table, index, or view.\n",
    "\n",
    "DROP: The DROP statement is used to remove an existing database object.\n",
    "\n",
    "ALTER: The ALTER statement is used to modify an existing database object, such as adding or removing columns, changing data types, or renaming objects.\n",
    "\n",
    "TRUNCATE: The TRUNCATE statement is used to remove all data from a table, while keeping the table structure intact.\n"
   ]
  },
  {
   "cell_type": "markdown",
   "id": "99e82219-6a68-4dfd-9933-420399a9d712",
   "metadata": {},
   "source": [
    "Q3. What is DML? Explain INSERT, UPDATE, and DELETE with an example.\n",
    "\n",
    "Answer = DML is an abbreviation for Data Manipulation Language. Represents a collection of programming languages explicitly used to make changes to the database, such as:\n",
    "\n",
    "CRUD operations to create, read, update and delete data.\n",
    "Using INSERT, SELECT, UPDATE, and DELETE commands.\n",
    "DML commands are often part of a more extensive database language, for example, SQL (structured query language). These DMLs can have a specific syntax to handle data in that language.\n",
    "DML has two main classifications which are procedural and non-procedural programming, which is also called declarative programming. The SQL dealing with the manipulation of data present in the database belongs to the DML or Data Manipulation Language, including most of the SQL statements.\n",
    "\n",
    "INSERT\n",
    "Insert command is used to insert data into a table.\n",
    "\n",
    "The syntax for INSERT command is as follows −\n",
    "\n",
    "Syntax\n",
    "\n",
    "Insert into <table_name> (column list) values (column values);\n",
    "\n",
    "DELETE\n",
    "Delete command is used to delete records from a database table.\n",
    "\n",
    "The syntax for the delete command is as follows -\n",
    "\n",
    "Syntax\n",
    "\n",
    " Delete from <table_name>WHERE condition\n",
    " \n",
    "UPDATE\n",
    "Update command is used to update existing data within a table.\n",
    "\n",
    "The syntax for the update command is as follows -\n",
    "\n",
    "Syntax\n",
    "\n",
    "UPDATE <table_name> SET column_number =value_number WHERE condition\n"
   ]
  },
  {
   "cell_type": "markdown",
   "id": "e559980d-e039-4171-b558-0919b7cacf1a",
   "metadata": {},
   "source": [
    "Q4. What is DQL? Explain SELECT with an example.\n",
    "\n",
    "Answer - DQL stands for Doctrine Query Language and is an Object Query Language derivative that is very similar to the Hibernate Query Language (HQL) or the Java Persistence Query Language (JPQL).\n",
    "\n",
    "In essence, DQL provides powerful querying capabilities over your object model. Imagine all your objects lying around in some storage (like an object database). When writing DQL queries, think about querying that storage to pick a certain subset of your objects.\n",
    "\n",
    "Example  = SELECT u, p.quantity FROM Users u..."
   ]
  },
  {
   "cell_type": "markdown",
   "id": "95e6e77a-a272-488b-891d-ea78951647b9",
   "metadata": {},
   "source": [
    "Q5. Explain Primary Key and Foreign Key.\n",
    "\n",
    "Answer A Primary key is a unique column we set in a table to easily identify and locate data in queries. A table can have only one primary key.\n",
    "\n",
    "The primary key column has a unique value and doesn’t store repeating values. A Primary key can never take NULL values.\n",
    "\n",
    "For example, in the case of a student when identification needs to be done in the class, the roll number of the student plays the role of Primary key.\n",
    "\n",
    "Similarly, when we talk about employees in a company, the employee ID is functioning as the Primary key for identification.\n",
    "\n",
    "A Foreign key is beneficial when we connect two or more tables so that data from both can be put to use parallelly.\n",
    "\n",
    "A foreign key is a field or collection of fields in a table that refers to the Primary key of the other table. It is responsible for managing the relationship between the tables.\n",
    "\n",
    "The table which contains the foreign key is often called the child table, and the table whose primary key is being referred by the foreign key is called the Parent Table."
   ]
  },
  {
   "cell_type": "markdown",
   "id": "62a4aae7-ae1d-4f5c-8242-b7bf4aca0dd3",
   "metadata": {},
   "source": [
    "Q6. Write a python code to connect MySQL to python. Explain the cursor() and execute() method."
   ]
  },
  {
   "cell_type": "markdown",
   "id": "42d165d4-56fe-409c-960b-b7ce3ed99bdb",
   "metadata": {},
   "source": [
    "import mysql.connector\n",
    "mydb = mysql.connector.connect(\n",
    "  host=\"local\",\n",
    "  user=\"78437c\",\n",
    "  password=\"jklwe\"\n",
    ")"
   ]
  },
  {
   "cell_type": "markdown",
   "id": "5e38b66f-f909-42ff-9d83-d471f98e760a",
   "metadata": {},
   "source": [
    "cursor and execution\n",
    "\n",
    "cursor = Cursor is a Temporary Memory or Temporary Work Station. It is Allocated by Database Server at the Time of Performing DML(Data Manipulation Language) operations on the Table by the User. Cursors are used to store Database Tables.\n",
    "\n",
    "execution = EXECUTE FUNCTION specifies fewer arguments than the user-defined function expects, the unspecified arguments are said to be missing. Missing arguments are initialized to their corresponding parameter default values, if these were defined. The syntax of specifying default values for parameters is described in Routine Parameter List."
   ]
  },
  {
   "cell_type": "markdown",
   "id": "51d6ef73-4124-434e-97f5-7df8f75e6115",
   "metadata": {},
   "source": [
    "Q7. Give the order of execution of SQL clauses in an SQL query.\n",
    "\n",
    "Answer Order\tClause\tFunction\n",
    "1\tFROM\tTables are joined to get the base data.\n",
    "2\tWHERE\tThe base data is filtered.\n",
    "3\tGROUP BY\tThe filtered base data is grouped.\n",
    "4\tHAVING\tThe grouped base data is filtered.\n",
    "5\tSELECT\tThe final data is returned.\n",
    "6\tORDER BY\tThe final data is sorted."
   ]
  },
  {
   "cell_type": "code",
   "execution_count": null,
   "id": "a61097ef-30ab-458a-88f3-b8a7b436e6bf",
   "metadata": {},
   "outputs": [],
   "source": []
  }
 ],
 "metadata": {
  "kernelspec": {
   "display_name": "Python 3 (ipykernel)",
   "language": "python",
   "name": "python3"
  },
  "language_info": {
   "codemirror_mode": {
    "name": "ipython",
    "version": 3
   },
   "file_extension": ".py",
   "mimetype": "text/x-python",
   "name": "python",
   "nbconvert_exporter": "python",
   "pygments_lexer": "ipython3",
   "version": "3.10.8"
  }
 },
 "nbformat": 4,
 "nbformat_minor": 5
}
